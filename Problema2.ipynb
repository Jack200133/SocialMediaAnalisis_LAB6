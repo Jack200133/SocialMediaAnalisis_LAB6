{
 "cells": [
  {
   "cell_type": "code",
   "execution_count": null,
   "metadata": {},
   "outputs": [],
   "source": [
    "import pandas as pd\n",
    "\n",
    "# Cargar el archivo CSV\n",
    "data = pd.read_csv('./DatosRedes/bernardoArevalo.csv', delimiter=\",\",\n",
    "                   quoting=2)\n",
    "data.head()\n",
    "\n",
    "print(data.head())\n",
    "\n",
    "print(data[2])\n"
   ]
  }
 ],
 "metadata": {
  "language_info": {
   "name": "python"
  },
  "orig_nbformat": 4
 },
 "nbformat": 4,
 "nbformat_minor": 2
}
